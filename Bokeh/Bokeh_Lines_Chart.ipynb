{
 "cells": [
  {
   "cell_type": "code",
   "execution_count": 1,
   "metadata": {},
   "outputs": [
    {
     "name": "stdout",
     "output_type": "stream",
     "text": [
      "Requirement already satisfied: bokeh in /home/johnny/anaconda3/lib/python3.7/site-packages (1.3.4)\n",
      "Requirement already satisfied: python-dateutil>=2.1 in /home/johnny/anaconda3/lib/python3.7/site-packages (from bokeh) (2.8.1)\n",
      "Requirement already satisfied: packaging>=16.8 in /home/johnny/anaconda3/lib/python3.7/site-packages (from bokeh) (19.2)\n",
      "Requirement already satisfied: Jinja2>=2.7 in /home/johnny/anaconda3/lib/python3.7/site-packages (from bokeh) (2.11.1)\n",
      "Requirement already satisfied: numpy>=1.7.1 in /home/johnny/anaconda3/lib/python3.7/site-packages (from bokeh) (1.18.2)\n",
      "Requirement already satisfied: tornado>=4.3 in /home/johnny/anaconda3/lib/python3.7/site-packages (from bokeh) (6.0.3)\n",
      "Requirement already satisfied: PyYAML>=3.10 in /home/johnny/anaconda3/lib/python3.7/site-packages (from bokeh) (5.1.2)\n",
      "Requirement already satisfied: pillow>=4.0 in /home/johnny/anaconda3/lib/python3.7/site-packages (from bokeh) (6.2.0)\n",
      "Requirement already satisfied: six>=1.5.2 in /home/johnny/anaconda3/lib/python3.7/site-packages (from bokeh) (1.14.0)\n",
      "Requirement already satisfied: pyparsing>=2.0.2 in /home/johnny/anaconda3/lib/python3.7/site-packages (from packaging>=16.8->bokeh) (2.4.6)\n",
      "Requirement already satisfied: MarkupSafe>=0.23 in /home/johnny/anaconda3/lib/python3.7/site-packages (from Jinja2>=2.7->bokeh) (1.1.1)\n"
     ]
    }
   ],
   "source": [
    "!pip install bokeh"
   ]
  },
  {
   "cell_type": "code",
   "execution_count": 2,
   "metadata": {},
   "outputs": [],
   "source": [
    "from bokeh.plotting import figure\n",
    "from bokeh.io import output_file, show"
   ]
  },
  {
   "cell_type": "code",
   "execution_count": 4,
   "metadata": {},
   "outputs": [],
   "source": [
    "p = figure()\n",
    "p.line(x=[1,2,3,4], y=[2,3,4,7])\n",
    "p.circle(x=[1,2,3,4], y=[2,3,4,7])\n",
    "output_file('lines.html')\n",
    "show(p)"
   ]
  },
  {
   "cell_type": "code",
   "execution_count": 5,
   "metadata": {},
   "outputs": [],
   "source": [
    "p = figure()\n",
    "p.line(x=[1,2,3,4], y=[2,3,4,7], line_color='#FF00FF', line_width=4)\n",
    "p.circle(x=[1,2,3,4], y=[2,3,4,7])\n",
    "output_file('lines.html')\n",
    "show(p)"
   ]
  },
  {
   "cell_type": "code",
   "execution_count": 6,
   "metadata": {},
   "outputs": [],
   "source": [
    "p = figure()\n",
    "p.rect(1, 50, 5, 7)\n",
    "output_file('lines.html')\n",
    "show(p)"
   ]
  },
  {
   "cell_type": "code",
   "execution_count": null,
   "metadata": {},
   "outputs": [],
   "source": []
  }
 ],
 "metadata": {
  "kernelspec": {
   "display_name": "Python 3",
   "language": "python",
   "name": "python3"
  },
  "language_info": {
   "codemirror_mode": {
    "name": "ipython",
    "version": 3
   },
   "file_extension": ".py",
   "mimetype": "text/x-python",
   "name": "python",
   "nbconvert_exporter": "python",
   "pygments_lexer": "ipython3",
   "version": "3.7.4"
  }
 },
 "nbformat": 4,
 "nbformat_minor": 2
}
