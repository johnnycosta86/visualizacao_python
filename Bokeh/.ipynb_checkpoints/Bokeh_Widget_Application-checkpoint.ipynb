{
 "cells": [
  {
   "cell_type": "code",
   "execution_count": 6,
   "metadata": {},
   "outputs": [
    {
     "name": "stdout",
     "output_type": "stream",
     "text": [
      "Requirement already satisfied: bokeh in /home/johnny/anaconda3/lib/python3.7/site-packages (1.3.4)\n",
      "Requirement already satisfied: python-dateutil>=2.1 in /home/johnny/anaconda3/lib/python3.7/site-packages (from bokeh) (2.8.1)\n",
      "Requirement already satisfied: packaging>=16.8 in /home/johnny/anaconda3/lib/python3.7/site-packages (from bokeh) (19.2)\n",
      "Requirement already satisfied: Jinja2>=2.7 in /home/johnny/anaconda3/lib/python3.7/site-packages (from bokeh) (2.11.1)\n",
      "Requirement already satisfied: pillow>=4.0 in /home/johnny/anaconda3/lib/python3.7/site-packages (from bokeh) (6.2.0)\n",
      "Requirement already satisfied: tornado>=4.3 in /home/johnny/anaconda3/lib/python3.7/site-packages (from bokeh) (6.0.3)\n",
      "Requirement already satisfied: six>=1.5.2 in /home/johnny/anaconda3/lib/python3.7/site-packages (from bokeh) (1.14.0)\n",
      "Requirement already satisfied: numpy>=1.7.1 in /home/johnny/anaconda3/lib/python3.7/site-packages (from bokeh) (1.18.2)\n",
      "Requirement already satisfied: PyYAML>=3.10 in /home/johnny/anaconda3/lib/python3.7/site-packages (from bokeh) (5.1.2)\n",
      "Requirement already satisfied: pyparsing>=2.0.2 in /home/johnny/anaconda3/lib/python3.7/site-packages (from packaging>=16.8->bokeh) (2.4.6)\n",
      "Requirement already satisfied: MarkupSafe>=0.23 in /home/johnny/anaconda3/lib/python3.7/site-packages (from Jinja2>=2.7->bokeh) (1.1.1)\n",
      "Requirement already satisfied: numpy in /home/johnny/anaconda3/lib/python3.7/site-packages (1.18.2)\n"
     ]
    }
   ],
   "source": [
    "!pip install bokeh\n",
    "!pip install numpy"
   ]
  },
  {
   "cell_type": "code",
   "execution_count": 7,
   "metadata": {},
   "outputs": [],
   "source": [
    "from bokeh.plotting import figure\n",
    "from bokeh.io import curdoc\n",
    "from bokeh.layouts import row, column, gridplot\n",
    "from bokeh.models import ColumnDataSource\n",
    "from bokeh.models.widgets import Slider\n",
    "import numpy as np"
   ]
  },
  {
   "cell_type": "code",
   "execution_count": 8,
   "metadata": {},
   "outputs": [],
   "source": [
    "x = np.linspace(0, 10, 100)\n",
    "y = np.sin(x)\n",
    "source = ColumnDataSource(data=dict(x=x, y=y))\n",
    "\n",
    "plot = figure()\n",
    "plot.line('x', 'y', source=source, line_width=4)\n",
    "\n",
    "curdoc().add_root(row(plot))"
   ]
  },
  {
   "cell_type": "code",
   "execution_count": 9,
   "metadata": {},
   "outputs": [],
   "source": [
    "x = np.linspace(0, 10, 100)\n",
    "y = np.sin(x)\n",
    "source = ColumnDataSource(data=dict(x=x, y=y))\n",
    "\n",
    "plot = figure()\n",
    "plot.line('x', 'y', source=source, line_width=4)\n",
    "\n",
    "freq = Slider(title='Frequency', value=2, start=0.1, end=10, step=0.1)\n",
    "\n",
    "def update_graph(attrname, old, new):\n",
    "    a = freq.value\n",
    "    x = np.linscape(0,10,100)\n",
    "    y = np.sin(a*x)\n",
    "\n",
    "freq.on_change('value', update_graph)\n",
    "\n",
    "    \n",
    "curdoc().add_root(row(plot))"
   ]
  },
  {
   "cell_type": "code",
   "execution_count": null,
   "metadata": {},
   "outputs": [],
   "source": []
  }
 ],
 "metadata": {
  "kernelspec": {
   "display_name": "Python 3",
   "language": "python",
   "name": "python3"
  },
  "language_info": {
   "codemirror_mode": {
    "name": "ipython",
    "version": 3
   },
   "file_extension": ".py",
   "mimetype": "text/x-python",
   "name": "python",
   "nbconvert_exporter": "python",
   "pygments_lexer": "ipython3",
   "version": "3.7.4"
  }
 },
 "nbformat": 4,
 "nbformat_minor": 2
}
