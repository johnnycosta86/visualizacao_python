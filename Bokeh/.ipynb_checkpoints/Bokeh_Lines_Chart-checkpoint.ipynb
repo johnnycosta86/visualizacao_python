{
 "cells": [
  {
   "cell_type": "code",
   "execution_count": 2,
   "metadata": {},
   "outputs": [
    {
     "name": "stdout",
     "output_type": "stream",
     "text": [
      "Requirement already satisfied: bokeh in /home/johnny/anaconda3/lib/python3.7/site-packages (1.3.4)\r\n",
      "Requirement already satisfied: pillow>=4.0 in /home/johnny/anaconda3/lib/python3.7/site-packages (from bokeh) (6.2.0)\r\n",
      "Requirement already satisfied: packaging>=16.8 in /home/johnny/anaconda3/lib/python3.7/site-packages (from bokeh) (19.2)\r\n",
      "Requirement already satisfied: python-dateutil>=2.1 in /home/johnny/anaconda3/lib/python3.7/site-packages (from bokeh) (2.8.1)\r\n",
      "Requirement already satisfied: numpy>=1.7.1 in /home/johnny/anaconda3/lib/python3.7/site-packages (from bokeh) (1.18.2)\r\n",
      "Requirement already satisfied: Jinja2>=2.7 in /home/johnny/anaconda3/lib/python3.7/site-packages (from bokeh) (2.11.1)\r\n",
      "Requirement already satisfied: PyYAML>=3.10 in /home/johnny/anaconda3/lib/python3.7/site-packages (from bokeh) (5.1.2)\r\n",
      "Requirement already satisfied: six>=1.5.2 in /home/johnny/anaconda3/lib/python3.7/site-packages (from bokeh) (1.14.0)\r\n",
      "Requirement already satisfied: tornado>=4.3 in /home/johnny/anaconda3/lib/python3.7/site-packages (from bokeh) (6.0.3)\r\n",
      "Requirement already satisfied: pyparsing>=2.0.2 in /home/johnny/anaconda3/lib/python3.7/site-packages (from packaging>=16.8->bokeh) (2.4.6)\r\n",
      "Requirement already satisfied: MarkupSafe>=0.23 in /home/johnny/anaconda3/lib/python3.7/site-packages (from Jinja2>=2.7->bokeh) (1.1.1)\r\n"
     ]
    }
   ],
   "source": [
    "!pip install bokeh"
   ]
  },
  {
   "cell_type": "code",
   "execution_count": 14,
   "metadata": {},
   "outputs": [],
   "source": [
    "from bokeh.plotting import figure\n",
    "from bokeh.io import output_file, show"
   ]
  },
  {
   "cell_type": "code",
   "execution_count": 15,
   "metadata": {},
   "outputs": [],
   "source": [
    "p = figure()\n",
    "p.circle(x=[1,2,3,4], y=[2,3,4,7])\n",
    "output_file('scatter_1.html')\n",
    "show(p)"
   ]
  },
  {
   "cell_type": "code",
   "execution_count": 16,
   "metadata": {},
   "outputs": [],
   "source": [
    "p = figure()\n",
    "p.circle(x=[1,2,3,4], y=[2,3,4,7], size=[10,20,30,40])\n",
    "output_file('scatter_2.html')\n",
    "show(p)"
   ]
  },
  {
   "cell_type": "code",
   "execution_count": 17,
   "metadata": {},
   "outputs": [],
   "source": [
    "p = figure()\n",
    "p.triangle(x=[1,2,3,4], y=[2,3,4,7], size=[10,20,30,40])\n",
    "output_file('scatter_3.html')\n",
    "show(p)"
   ]
  },
  {
   "cell_type": "code",
   "execution_count": 18,
   "metadata": {},
   "outputs": [],
   "source": [
    "p = figure()\n",
    "p.diamond(x=[1,2,3,4], y=[2,3,4,7], size=[10,20,30,40])\n",
    "output_file('scatter_3.html')\n",
    "show(p)"
   ]
  },
  {
   "cell_type": "code",
   "execution_count": 19,
   "metadata": {},
   "outputs": [],
   "source": [
    "p = figure()\n",
    "p.square(x=[1,2,3,4], y=[2,3,4,7], size=[10,20,30,40])\n",
    "output_file('scatter_3.html')\n",
    "show(p)"
   ]
  },
  {
   "cell_type": "code",
   "execution_count": null,
   "metadata": {},
   "outputs": [],
   "source": []
  }
 ],
 "metadata": {
  "kernelspec": {
   "display_name": "Python 3",
   "language": "python",
   "name": "python3"
  },
  "language_info": {
   "codemirror_mode": {
    "name": "ipython",
    "version": 3
   },
   "file_extension": ".py",
   "mimetype": "text/x-python",
   "name": "python",
   "nbconvert_exporter": "python",
   "pygments_lexer": "ipython3",
   "version": "3.7.4"
  }
 },
 "nbformat": 4,
 "nbformat_minor": 2
}
