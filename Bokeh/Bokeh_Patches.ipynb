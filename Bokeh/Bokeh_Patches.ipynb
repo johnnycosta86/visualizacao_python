{
 "cells": [
  {
   "cell_type": "code",
   "execution_count": 13,
   "metadata": {},
   "outputs": [
    {
     "name": "stdout",
     "output_type": "stream",
     "text": [
      "Requirement already satisfied: bokeh in /home/johnny/anaconda3/lib/python3.7/site-packages (1.3.4)\n",
      "Requirement already satisfied: Jinja2>=2.7 in /home/johnny/anaconda3/lib/python3.7/site-packages (from bokeh) (2.11.1)\n",
      "Requirement already satisfied: pillow>=4.0 in /home/johnny/anaconda3/lib/python3.7/site-packages (from bokeh) (6.2.0)\n",
      "Requirement already satisfied: numpy>=1.7.1 in /home/johnny/anaconda3/lib/python3.7/site-packages (from bokeh) (1.18.2)\n",
      "Requirement already satisfied: tornado>=4.3 in /home/johnny/anaconda3/lib/python3.7/site-packages (from bokeh) (6.0.3)\n",
      "Requirement already satisfied: packaging>=16.8 in /home/johnny/anaconda3/lib/python3.7/site-packages (from bokeh) (19.2)\n",
      "Requirement already satisfied: six>=1.5.2 in /home/johnny/anaconda3/lib/python3.7/site-packages (from bokeh) (1.14.0)\n",
      "Requirement already satisfied: python-dateutil>=2.1 in /home/johnny/anaconda3/lib/python3.7/site-packages (from bokeh) (2.8.1)\n",
      "Requirement already satisfied: PyYAML>=3.10 in /home/johnny/anaconda3/lib/python3.7/site-packages (from bokeh) (5.1.2)\n",
      "Requirement already satisfied: MarkupSafe>=0.23 in /home/johnny/anaconda3/lib/python3.7/site-packages (from Jinja2>=2.7->bokeh) (1.1.1)\n",
      "Requirement already satisfied: pyparsing>=2.0.2 in /home/johnny/anaconda3/lib/python3.7/site-packages (from packaging>=16.8->bokeh) (2.4.6)\n"
     ]
    }
   ],
   "source": [
    "!pip install bokeh"
   ]
  },
  {
   "cell_type": "code",
   "execution_count": 14,
   "metadata": {},
   "outputs": [],
   "source": [
    "from bokeh.plotting import figure\n",
    "from bokeh.io import output_file, show\n",
    "from bokeh.sampledata.iris import flowers"
   ]
  },
  {
   "cell_type": "code",
   "execution_count": 15,
   "metadata": {},
   "outputs": [],
   "source": [
    "p = figure()\n",
    "p.patches(xs=[[1, 1, 2, 2]], ys=[[2, 5, 5, 7]], fill_color=['red'])\n",
    "output_file('lines.html')\n",
    "show(p)"
   ]
  },
  {
   "cell_type": "code",
   "execution_count": 16,
   "metadata": {},
   "outputs": [
    {
     "name": "stdout",
     "output_type": "stream",
     "text": [
      "<class 'pandas.core.frame.DataFrame'>\n",
      "     sepal_length  sepal_width  petal_length  petal_width    species\n",
      "0             5.1          3.5           1.4          0.2     setosa\n",
      "1             4.9          3.0           1.4          0.2     setosa\n",
      "2             4.7          3.2           1.3          0.2     setosa\n",
      "3             4.6          3.1           1.5          0.2     setosa\n",
      "4             5.0          3.6           1.4          0.2     setosa\n",
      "..            ...          ...           ...          ...        ...\n",
      "145           6.7          3.0           5.2          2.3  virginica\n",
      "146           6.3          2.5           5.0          1.9  virginica\n",
      "147           6.5          3.0           5.2          2.0  virginica\n",
      "148           6.2          3.4           5.4          2.3  virginica\n",
      "149           5.9          3.0           5.1          1.8  virginica\n",
      "\n",
      "[150 rows x 5 columns]\n",
      "Index(['sepal_length', 'sepal_width', 'petal_length', 'petal_width',\n",
      "       'species'],\n",
      "      dtype='object')\n"
     ]
    }
   ],
   "source": [
    "print(type(flowers))\n",
    "print(flowers)\n",
    "print(flowers.columns)"
   ]
  },
  {
   "cell_type": "code",
   "execution_count": 17,
   "metadata": {},
   "outputs": [],
   "source": [
    "p = figure()\n",
    "p.circle(x=flowers['petal_width'], y=flowers['petal_length'])\n",
    "output_file('circle.html')\n",
    "show(p)"
   ]
  },
  {
   "cell_type": "code",
   "execution_count": 18,
   "metadata": {},
   "outputs": [],
   "source": [
    "p = figure()\n",
    "p.circle(x=flowers['petal_width'], y=flowers['petal_length'], color='red')\n",
    "output_file('circle.html')\n",
    "show(p)"
   ]
  },
  {
   "cell_type": "code",
   "execution_count": 19,
   "metadata": {},
   "outputs": [],
   "source": [
    "p = figure()\n",
    "p.circle(x=flowers['petal_width'], y=flowers['petal_length'], color='red', size=15)\n",
    "output_file('circle.html')\n",
    "show(p)"
   ]
  },
  {
   "cell_type": "code",
   "execution_count": 20,
   "metadata": {},
   "outputs": [],
   "source": [
    "p = figure()\n",
    "p.circle(x=flowers['petal_width'], y=flowers['petal_length'], color='red', size=15, alpha=0.7)\n",
    "output_file('circle.html')\n",
    "show(p)"
   ]
  },
  {
   "cell_type": "code",
   "execution_count": null,
   "metadata": {},
   "outputs": [],
   "source": []
  }
 ],
 "metadata": {
  "kernelspec": {
   "display_name": "Python 3",
   "language": "python",
   "name": "python3"
  },
  "language_info": {
   "codemirror_mode": {
    "name": "ipython",
    "version": 3
   },
   "file_extension": ".py",
   "mimetype": "text/x-python",
   "name": "python",
   "nbconvert_exporter": "python",
   "pygments_lexer": "ipython3",
   "version": "3.7.4"
  }
 },
 "nbformat": 4,
 "nbformat_minor": 2
}
