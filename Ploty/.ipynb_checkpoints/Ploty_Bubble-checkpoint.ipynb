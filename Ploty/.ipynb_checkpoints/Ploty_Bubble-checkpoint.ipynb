{
 "cells": [
  {
   "cell_type": "code",
   "execution_count": 1,
   "metadata": {},
   "outputs": [
    {
     "name": "stdout",
     "output_type": "stream",
     "text": [
      "Requirement already satisfied: plotly in /home/johnny/anaconda3/lib/python3.7/site-packages (4.9.0)\r\n",
      "Requirement already satisfied: six in /home/johnny/anaconda3/lib/python3.7/site-packages (from plotly) (1.14.0)\r\n",
      "Requirement already satisfied: retrying>=1.3.3 in /home/johnny/anaconda3/lib/python3.7/site-packages (from plotly) (1.3.3)\r\n"
     ]
    }
   ],
   "source": [
    "!pip install plotly"
   ]
  },
  {
   "cell_type": "code",
   "execution_count": 2,
   "metadata": {},
   "outputs": [],
   "source": [
    "import plotly.offline as pyo\n",
    "import plotly.graph_objs as go\n",
    "import numpy as np"
   ]
  },
  {
   "cell_type": "code",
   "execution_count": 10,
   "metadata": {},
   "outputs": [
    {
     "data": {
      "text/plain": [
       "'bar-plot.html'"
      ]
     },
     "execution_count": 10,
     "metadata": {},
     "output_type": "execute_result"
    }
   ],
   "source": [
    "trace = go.Bar(x=['Jan', 'Feb', 'March'], y=[15, 24, -10],\n",
    "              text = ['Jan Sale', 'Feb Sale', 'March Sale'])\n",
    "data = [trace]\n",
    "\n",
    "pyo.plot(data, filename='bar-plot.html')"
   ]
  },
  {
   "cell_type": "code",
   "execution_count": 13,
   "metadata": {},
   "outputs": [
    {
     "data": {
      "text/plain": [
       "'bar-plot.html'"
      ]
     },
     "execution_count": 13,
     "metadata": {},
     "output_type": "execute_result"
    }
   ],
   "source": [
    "trace1 = go.Bar(x=['Jan', 'Feb', 'March'], y=[15, 24, -10],\n",
    "              text = ['Jan Sale', 'Feb Sale', 'March Sale'])\n",
    "trace2 = go.Bar(x=['Jan', 'Feb', 'March'], y=[25, 4, 12],\n",
    "              text = ['Jan Sale', 'Feb Sale', 'March Sale'])\n",
    "\n",
    "data1 = [trace1, trace2]\n",
    "\n",
    "pyo.plot(data1, filename='bar-plot.html')"
   ]
  },
  {
   "cell_type": "code",
   "execution_count": null,
   "metadata": {},
   "outputs": [],
   "source": []
  }
 ],
 "metadata": {
  "kernelspec": {
   "display_name": "Python 3",
   "language": "python",
   "name": "python3"
  },
  "language_info": {
   "codemirror_mode": {
    "name": "ipython",
    "version": 3
   },
   "file_extension": ".py",
   "mimetype": "text/x-python",
   "name": "python",
   "nbconvert_exporter": "python",
   "pygments_lexer": "ipython3",
   "version": "3.7.4"
  }
 },
 "nbformat": 4,
 "nbformat_minor": 2
}
